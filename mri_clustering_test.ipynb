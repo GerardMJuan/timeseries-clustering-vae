{
 "cells": [
  {
   "cell_type": "markdown",
   "metadata": {},
   "source": [
    "## Timeseries clustering\n",
    "\n",
    "Run VRAE with MRI data from tadpole, so that we know how to load data in it, and see that it works well. We use sequences of fixed size (n=5), and study how and if the networks make a good optimization or not, as well as studying how the decoder is working and if we should do some kind of sequence to sequence learning.\n"
   ]
  },
  {
   "cell_type": "code",
   "execution_count": 3,
   "metadata": {},
   "outputs": [],
   "source": [
    "from vrae.vrae import VRAE\n",
    "from vrae.utils import *\n",
    "import numpy as np\n",
    "import torch\n",
    "\n",
    "from torch.utils.data import DataLoader, TensorDataset\n",
    "from sklearn.metrics import mean_absolute_error\n"
   ]
  },
  {
   "cell_type": "code",
   "execution_count": 4,
   "metadata": {},
   "outputs": [],
   "source": [
    "# Parameters\n",
    "hidden_size = 20\n",
    "hidden_layer_depth = 1\n",
    "latent_length = 5\n",
    "learning_rate = 0.0005\n",
    "n_epochs = 8000\n",
    "dropout_rate = 0.0 # We have variational dropout in our implementation\n",
    "optimizer = 'Adam' # options: ADAM, SGD\n",
    "cuda = True # options: True, False\n",
    "print_every = 1000\n",
    "clip = True # options: True, False # Gradient Clipping\n",
    "max_grad_norm = 5\n",
    "loss = 'MSELoss' # options: SmoothL1Loss, MSELoss\n",
    "block = 'GRU' # options: LSTM, GRU\n",
    "\n",
    "dload = './mri_model_dir' #download directory"
   ]
  },
  {
   "cell_type": "code",
   "execution_count": 5,
   "metadata": {},
   "outputs": [
    {
     "name": "stdout",
     "output_type": "stream",
     "text": [
      "(4570, 48)\n"
     ]
    }
   ],
   "source": [
    "# LOAD DATA\n",
    "csv_path = \"data/tadpole_mrionly.csv\"\n",
    "X_train, X_val = open_MRI_data(csv_path, train_set=0.8, n_followups=5, normalize=True)\n",
    "\n",
    "sequence_length = X_train.shape[1]\n",
    "number_of_features = X_train.shape[2]\n",
    "\n",
    "#We define batch size as the full length\n",
    "# To change this we would need to change structurally everything. Afternoon.\n",
    "# batch_size = X_train.shape[0] #In our original paper, there is no batch size, all the optimization is done together\n",
    "batch_size = len(X_train)\n",
    "\n",
    "#Convert to torch\n",
    "train_dataset = TensorDataset(torch.from_numpy(X_train))\n",
    "test_dataset = TensorDataset(torch.from_numpy(X_val))\n",
    "\n",
    "# open question: why do I need to use tensor dataset? makes no sense, right?\n",
    "\n",
    "\n",
    "#Make sure that this dataset makes sense"
   ]
  },
  {
   "cell_type": "markdown",
   "metadata": {},
   "source": [
    "Initialize VRAE, fit and evaluate"
   ]
  },
  {
   "cell_type": "code",
   "execution_count": 6,
   "metadata": {},
   "outputs": [
    {
     "name": "stderr",
     "output_type": "stream",
     "text": [
      "/homedtic/gmarti/project/anaconda3/envs/dlnn2/lib/python3.6/site-packages/torch/nn/_reduction.py:43: UserWarning: size_average and reduce args will be deprecated, please use reduction='sum' instead.\n",
      "  warnings.warn(warning.format(ret))\n"
     ]
    },
    {
     "name": "stdout",
     "output_type": "stream",
     "text": [
      "Epoch 1000, loss = 106565.1016, recon_loss = 106561.1250, kl_loss = 3.9745\n",
      "Average loss: 106565.1016\n",
      "Epoch 2000, loss = 97631.5234, recon_loss = 97626.5938, kl_loss = 4.9279\n",
      "Average loss: 97631.5234\n",
      "Epoch 3000, loss = 95981.3125, recon_loss = 95976.1641, kl_loss = 5.1480\n",
      "Average loss: 95981.3125\n",
      "Epoch 4000, loss = 94932.1406, recon_loss = 94926.7812, kl_loss = 5.3629\n",
      "Average loss: 94932.1406\n",
      "Epoch 5000, loss = 94182.8906, recon_loss = 94177.3125, kl_loss = 5.5755\n",
      "Average loss: 94182.8906\n",
      "Epoch 6000, loss = 93265.5000, recon_loss = 93259.7109, kl_loss = 5.7929\n",
      "Average loss: 93265.5000\n",
      "Epoch 7000, loss = 92410.3594, recon_loss = 92404.2969, kl_loss = 6.0657\n",
      "Average loss: 92410.3594\n",
      "Epoch 8000, loss = 91644.8438, recon_loss = 91638.4844, kl_loss = 6.3587\n",
      "Average loss: 91644.8438\n",
      "Encoder(\n",
      "  (model): GRU(40, 20)\n",
      ")\n",
      "Lambda(\n",
      "  (hidden_to_mean): Linear(in_features=20, out_features=5, bias=True)\n",
      "  (hidden_to_logvar): Linear(in_features=20, out_features=5, bias=True)\n",
      ")\n",
      "Decoder(\n",
      "  (model): GRU(1, 20)\n",
      "  (latent_to_hidden): Linear(in_features=5, out_features=20, bias=True)\n",
      "  (hidden_to_output): Linear(in_features=20, out_features=40, bias=True)\n",
      ")\n"
     ]
    }
   ],
   "source": [
    "#We would like the batch size \n",
    "vrae = VRAE(sequence_length=sequence_length,\n",
    "            number_of_features = number_of_features,\n",
    "            hidden_size = hidden_size, \n",
    "            hidden_layer_depth = hidden_layer_depth,\n",
    "            latent_length = latent_length,\n",
    "            batch_size = batch_size,\n",
    "            learning_rate = learning_rate,\n",
    "            n_epochs = n_epochs,\n",
    "            dropout_rate = dropout_rate,\n",
    "            optimizer = optimizer, \n",
    "            cuda = cuda,\n",
    "            print_every=print_every, \n",
    "            clip=clip, \n",
    "            max_grad_norm=max_grad_norm,\n",
    "            loss = loss,\n",
    "            block = block,\n",
    "            dload = dload)\n",
    "\n",
    "# Fit the model\n",
    "vrae.fit(train_dataset)\n",
    "\n",
    "print(vrae.encoder)\n",
    "print(vrae.lmbd)\n",
    "print(vrae.decoder)"
   ]
  },
  {
   "cell_type": "markdown",
   "metadata": {},
   "source": [
    "Evaluate results:\n",
    "    * plot loss\n",
    "    * compute a metric for the testing dataset"
   ]
  },
  {
   "cell_type": "code",
   "execution_count": 7,
   "metadata": {},
   "outputs": [
    {
     "name": "stdout",
     "output_type": "stream",
     "text": [
      "(8000,)\n",
      "(183, 5, 40)\n",
      "(183, 5, 40)\n",
      "MSE over the train set: 0.6003479775975047\n",
      "MSE over the test set: 0.725050652448383\n"
     ]
    },
    {
     "data": {
      "image/png": "[encoded data removed]",
      "text/plain": [
       "<Figure size 432x288 with 1 Axes>"
      ]
     },
     "metadata": {
      "needs_background": "light"
     },
     "output_type": "display_data"
    }
   ],
   "source": [
    "%matplotlib inline\n",
    "# Plotting loss\n",
    "# Get full curve from losss\n",
    "\n",
    "import matplotlib.pyplot as plt\n",
    "\n",
    "loss_curve = vrae.training_loss\n",
    "print(np.array(loss_curve).shape)\n",
    "#Plot it\n",
    "plt.plot(range(len(loss_curve)), loss_curve, '-b', label='loss')\n",
    "\n",
    "plt.xlabel(\"iteration\")\n",
    "plt.ylabel(\"total loss\")\n",
    "\n",
    "plt.legend(loc='upper left')\n",
    "plt.title(\"Loss function\")\n",
    "\n",
    "# Transform the test dataset\n",
    "X_hat_train = vrae.reconstruct(train_dataset)\n",
    "X_hat = vrae.reconstruct(test_dataset)\n",
    "\n",
    "# Need to reshape\n",
    "X_hat = np.swapaxes(X_hat,0,1)\n",
    "X_hat_train = np.swapaxes(X_hat_train,0,1)\n",
    "\n",
    "print(X_hat.shape)\n",
    "print(X_val.shape)\n",
    "\n",
    "#Compute mean absolute error over all sequences\n",
    "mse_test = np.mean([mean_absolute_error(xval, xhat) for (xval, xhat) in zip(X_train, X_hat_train)])\n",
    "print('MSE over the train set: ' + str(mse_test))\n",
    "\n",
    "#Compute mean absolute error over all sequences\n",
    "mse_test = np.mean([mean_absolute_error(xval, xhat) for (xval, xhat) in zip(X_val, X_hat)])\n",
    "print('MSE over the test set: ' + str(mse_test))"
   ]
  },
  {
   "cell_type": "code",
   "execution_count": 8,
   "metadata": {},
   "outputs": [
    {
     "data": {
      "text/plain": [
       "Text(0.5, 1.0, 'Predicted vs real')"
      ]
     },
     "execution_count": 8,
     "metadata": {},
     "output_type": "execute_result"
    },
    {
     "data": {
      "image/png": "[encoded data removed]",
      "text/plain": [
       "<Figure size 432x288 with 1 Axes>"
      ]
     },
     "metadata": {
      "needs_background": "light"
     },
     "output_type": "display_data"
    }
   ],
   "source": [
    "# Visualize the difference between X_test and X_hat for specific features and \n",
    "subject = 12\n",
    "feature = 0\n",
    "\n",
    "x_hat_curve = X_hat[subject, :, feature]\n",
    "x_val_curve = X_val[subject, :, feature]\n",
    "\n",
    "# Plot the two lines\n",
    "plt.plot(range(len(x_hat_curve)), x_hat_curve, '-b', label='X (predicted)')\n",
    "plt.plot(range(len(x_val_curve)), x_val_curve, '-r', label='X (original)')\n",
    "\n",
    "plt.xlabel(\"time-point\")\n",
    "plt.ylabel(\"value\")\n",
    "\n",
    "plt.legend(loc='upper left')\n",
    "plt.title(\"Predicted vs real\")\n"
   ]
  },
  {
   "cell_type": "code",
   "execution_count": null,
   "metadata": {},
   "outputs": [],
   "source": [
    "# Visualize the difference between X_test and X_hat for a single subject, using the mean of the predictions and of all the features\n",
    "subject = 13\n",
    "\n",
    "x_hat_curve = np.mean(X_hat[subject, :, :], axis=1)\n",
    "x_val_curve = np.mean(X_val[subject, :, :], axis=1)\n",
    "\n",
    "# Plot the two lines\n",
    "plt.plot(range(len(x_hat_curve)), x_hat_curve, '-b', label='X (predicted)')\n",
    "plt.plot(range(len(x_val_curve)), x_val_curve, '-r', label='X (original)')\n",
    "\n",
    "plt.xlabel(\"time-point\")\n",
    "plt.ylabel(\"value\")\n",
    "\n",
    "plt.legend(loc='upper left')\n",
    "plt.title(\"Predicted vs real\")"
   ]
  },
  {
   "cell_type": "code",
   "execution_count": 8,
   "metadata": {},
   "outputs": [],
   "source": [
    "# Visualize latent space\n",
    "\n"
   ]
  },
  {
   "cell_type": "code",
   "execution_count": null,
   "metadata": {},
   "outputs": [],
   "source": []
  }
 ],
 "metadata": {
  "kernelspec": {
   "display_name": "Python 3",
   "language": "python",
   "name": "python3"
  },
  "language_info": {
   "codemirror_mode": {
    "name": "ipython",
    "version": 3
   },
   "file_extension": ".py",
   "mimetype": "text/x-python",
   "name": "python",
   "nbconvert_exporter": "python",
   "pygments_lexer": "ipython3",
   "version": "3.6.10"
  }
 },
 "nbformat": 4,
 "nbformat_minor": 4
}
