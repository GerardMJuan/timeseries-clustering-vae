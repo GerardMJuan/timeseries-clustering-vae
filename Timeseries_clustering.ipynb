{
 "cells": [
  {
   "cell_type": "markdown",
   "metadata": {},
   "source": [
    "## Timeseries clustering\n",
    "\n",
    "Time series clustering is to partition time series data into groups based on similarity or distance, so that time series in the same cluster are similar.\n",
    "\n",
    "Methodology followed:\n",
    "* Use Variational Recurrent AutoEncoder (VRAE) for dimensionality reduction of the timeseries\n",
    "* To visualize the clusters, PCA and t-sne are used\n",
    "\n",
    "Paper:\n",
    "https://arxiv.org/pdf/1412.6581.pdf"
   ]
  },
  {
   "cell_type": "markdown",
   "metadata": {},
   "source": [
    "#### Contents\n",
    "\n",
    "0. [Load data and preprocess](#Load-data-and-preprocess)\n",
    "1. [Initialize VRAE object](#Initialize-VRAE-object)\n",
    "2. [Fit the model onto dataset](#Fit-the-model-onto-dataset)\n",
    "3. [Transform the input timeseries to encoded latent vectors](#Transform-the-input-timeseries-to-encoded-latent-vectors)\n",
    "4. [Save the model to be fetched later](#Save-the-model-to-be-fetched-later)\n",
    "5. [Visualize using PCA and tSNE](#Visualize-using-PCA-and-tSNE)"
   ]
  },
  {
   "cell_type": "code",
   "execution_count": 1,
   "metadata": {},
   "outputs": [
    {
     "data": {
      "text/html": [
       "<script>\n",
       "code_show=true; \n",
       "function code_toggle() {\n",
       "if (code_show){\n",
       "$('div.input').hide();\n",
       "} else {\n",
       "$('div.input').show();\n",
       "}\n",
       "code_show = !code_show\n",
       "} \n",
       "$( document ).ready(code_toggle);\n",
       "</script>\n",
       "<form action=\"javascript:code_toggle()\"><input type=\"submit\" value=\"Click here to toggle on/off the raw code.\"></form>"
      ],
      "text/plain": [
       "<IPython.core.display.HTML object>"
      ]
     },
     "execution_count": 1,
     "metadata": {},
     "output_type": "execute_result"
    }
   ],
   "source": [
    "from IPython.display import HTML\n",
    "HTML('''<script>\n",
    "code_show=true; \n",
    "function code_toggle() {\n",
    "if (code_show){\n",
    "$('div.input').hide();\n",
    "} else {\n",
    "$('div.input').show();\n",
    "}\n",
    "code_show = !code_show\n",
    "} \n",
    "$( document ).ready(code_toggle);\n",
    "</script>\n",
    "<form action=\"javascript:code_toggle()\"><input type=\"submit\" value=\"Click here to toggle on/off the raw code.\"></form>''')"
   ]
  },
  {
   "cell_type": "markdown",
   "metadata": {},
   "source": [
    "### Import required modules"
   ]
  },
  {
   "cell_type": "code",
   "execution_count": 2,
   "metadata": {},
   "outputs": [],
   "source": [
    "from vrae.vrae import VRAE\n",
    "from vrae.utils import *\n",
    "import numpy as np\n",
    "import torch\n",
    "\n",
    "#import plotly\n",
    "from torch.utils.data import DataLoader, TensorDataset\n",
    "#plotly.offline.init_notebook_mode()"
   ]
  },
  {
   "cell_type": "markdown",
   "metadata": {},
   "source": [
    "### Input parameters"
   ]
  },
  {
   "cell_type": "code",
   "execution_count": 3,
   "metadata": {},
   "outputs": [],
   "source": [
    "dload = './model_dir' #download directory"
   ]
  },
  {
   "cell_type": "markdown",
   "metadata": {},
   "source": [
    "### Hyper parameters"
   ]
  },
  {
   "cell_type": "code",
   "execution_count": 4,
   "metadata": {},
   "outputs": [],
   "source": [
    "hidden_size = 90\n",
    "hidden_layer_depth = 1\n",
    "latent_length = 20\n",
    "batch_size = 1\n",
    "learning_rate = 0.0005\n",
    "n_epochs = 40\n",
    "dropout_rate = 0.2\n",
    "optimizer = 'Adam' # options: ADAM, SGD\n",
    "cuda = True # options: True, False\n",
    "print_every=30\n",
    "clip = True # options: True, False\n",
    "max_grad_norm=5\n",
    "loss = 'MSELoss' # options: SmoothL1Loss, MSELoss\n",
    "block = 'LSTM' # options: LSTM, GRU"
   ]
  },
  {
   "cell_type": "markdown",
   "metadata": {},
   "source": [
    "### Load data and preprocess"
   ]
  },
  {
   "cell_type": "code",
   "execution_count": 5,
   "metadata": {},
   "outputs": [],
   "source": [
    "X_train, X_val, y_train, y_val = open_data('data', ratio_train=0.9)\n",
    "\n",
    "num_classes = len(np.unique(y_train))\n",
    "base = np.min(y_train)  # Check if data is 0-based\n",
    "if base != 0:\n",
    "    y_train -= base\n",
    "y_val -= base"
   ]
  },
  {
   "cell_type": "code",
   "execution_count": 6,
   "metadata": {},
   "outputs": [],
   "source": [
    "train_dataset = TensorDataset(torch.from_numpy(X_train))\n",
    "test_dataset = TensorDataset(torch.from_numpy(X_val))"
   ]
  },
  {
   "cell_type": "markdown",
   "metadata": {},
   "source": [
    "**Fetch `sequence_length` from dataset**"
   ]
  },
  {
   "cell_type": "code",
   "execution_count": 7,
   "metadata": {},
   "outputs": [
    {
     "name": "stdout",
     "output_type": "stream",
     "text": [
      "140\n",
      "(8549, 140, 1)\n"
     ]
    }
   ],
   "source": [
    "sequence_length = X_train.shape[1]\n",
    "print(sequence_length)\n",
    "print(X_train.shape)\n",
    "#So, shape is\n",
    "# (Nsamples, timesteps, nfeatures)"
   ]
  },
  {
   "cell_type": "markdown",
   "metadata": {},
   "source": [
    "**Fetch `number_of_features` from dataset**\n",
    "\n",
    "This config corresponds to number of input features"
   ]
  },
  {
   "cell_type": "code",
   "execution_count": 8,
   "metadata": {},
   "outputs": [],
   "source": [
    "number_of_features = X_train.shape[2]"
   ]
  },
  {
   "cell_type": "markdown",
   "metadata": {},
   "source": [
    "### Initialize VRAE object\n",
    "\n",
    "VRAE inherits from `sklearn.base.BaseEstimator` and overrides `fit`, `transform` and `fit_transform` functions, similar to sklearn modules"
   ]
  },
  {
   "cell_type": "code",
   "execution_count": 9,
   "metadata": {},
   "outputs": [
    {
     "name": "stderr",
     "output_type": "stream",
     "text": [
      "/homedtic/gmarti/project/anaconda3/envs/dlnn2/lib/python3.6/site-packages/torch/nn/modules/rnn.py:50: UserWarning: dropout option adds dropout after all but last recurrent layer, so non-zero dropout expects num_layers greater than 1, but got dropout=0.2 and num_layers=1\n",
      "  \"num_layers={}\".format(dropout, num_layers))\n",
      "/homedtic/gmarti/project/anaconda3/envs/dlnn2/lib/python3.6/site-packages/torch/nn/_reduction.py:43: UserWarning: size_average and reduce args will be deprecated, please use reduction='sum' instead.\n",
      "  warnings.warn(warning.format(ret))\n"
     ]
    }
   ],
   "source": [
    "vrae = VRAE(sequence_length=sequence_length,\n",
    "            number_of_features = number_of_features,\n",
    "            hidden_size = hidden_size, \n",
    "            hidden_layer_depth = hidden_layer_depth,\n",
    "            latent_length = latent_length,\n",
    "            batch_size = batch_size,\n",
    "            learning_rate = learning_rate,\n",
    "            n_epochs = n_epochs,\n",
    "            dropout_rate = dropout_rate,\n",
    "            optimizer = optimizer, \n",
    "            cuda = cuda,\n",
    "            print_every=print_every, \n",
    "            clip=clip, \n",
    "            max_grad_norm=max_grad_norm,\n",
    "            loss = loss,\n",
    "            block = block,\n",
    "            dload = dload)"
   ]
  },
  {
   "cell_type": "markdown",
   "metadata": {},
   "source": [
    "### Fit the model onto dataset"
   ]
  },
  {
   "cell_type": "code",
   "execution_count": 10,
   "metadata": {},
   "outputs": [
    {
     "name": "stdout",
     "output_type": "stream",
     "text": [
      "Epoch: 0\n",
      "Batch 30, loss = 4288.9761, recon_loss = 4288.9336, kl_loss = 0.0427\n",
      "Batch 60, loss = 2630.7402, recon_loss = 2627.3994, kl_loss = 3.3408\n",
      "Batch 90, loss = 2788.2925, recon_loss = 2784.6389, kl_loss = 3.6536\n",
      "Batch 120, loss = 2566.3467, recon_loss = 2562.9121, kl_loss = 3.4346\n",
      "Batch 150, loss = 2617.5989, recon_loss = 2614.5833, kl_loss = 3.0157\n",
      "Batch 180, loss = 2798.7788, recon_loss = 2796.5205, kl_loss = 2.2583\n",
      "Batch 210, loss = 2306.7722, recon_loss = 2304.3550, kl_loss = 2.4173\n",
      "Batch 240, loss = 2577.2769, recon_loss = 2575.1824, kl_loss = 2.0945\n",
      "Average loss: 2907.2649\n",
      "Epoch: 1\n",
      "Batch 30, loss = 2576.5151, recon_loss = 2574.1802, kl_loss = 2.3349\n",
      "Batch 60, loss = 2619.7419, recon_loss = 2617.3433, kl_loss = 2.3988\n",
      "Batch 90, loss = 2213.2881, recon_loss = 2210.8130, kl_loss = 2.4751\n",
      "Batch 120, loss = 2058.0625, recon_loss = 2055.6042, kl_loss = 2.4581\n",
      "Batch 150, loss = 2404.0837, recon_loss = 2401.8105, kl_loss = 2.2732\n",
      "Batch 180, loss = 2200.9875, recon_loss = 2198.5400, kl_loss = 2.4476\n",
      "Batch 210, loss = 2206.7388, recon_loss = 2204.3970, kl_loss = 2.3419\n",
      "Batch 240, loss = 2410.0891, recon_loss = 2407.5815, kl_loss = 2.5077\n",
      "Average loss: 2322.0765\n",
      "Epoch: 2\n",
      "Batch 30, loss = 2160.1279, recon_loss = 2157.8032, kl_loss = 2.3247\n",
      "Batch 60, loss = 2079.3835, recon_loss = 2076.9734, kl_loss = 2.4102\n",
      "Batch 90, loss = 2324.6660, recon_loss = 2322.2441, kl_loss = 2.4219\n",
      "Batch 120, loss = 2514.6169, recon_loss = 2512.3555, kl_loss = 2.2615\n",
      "Batch 150, loss = 1972.4596, recon_loss = 1969.7666, kl_loss = 2.6930\n",
      "Batch 180, loss = 2697.9219, recon_loss = 2695.5342, kl_loss = 2.3877\n",
      "Batch 210, loss = 2338.8726, recon_loss = 2336.5244, kl_loss = 2.3480\n",
      "Batch 240, loss = 2293.2700, recon_loss = 2290.8113, kl_loss = 2.4587\n",
      "Average loss: 2272.9647\n",
      "Epoch: 3\n",
      "Batch 30, loss = 2011.2625, recon_loss = 2008.6853, kl_loss = 2.5771\n",
      "Batch 60, loss = 2405.9365, recon_loss = 2403.3096, kl_loss = 2.6268\n",
      "Batch 90, loss = 2387.4600, recon_loss = 2385.0063, kl_loss = 2.4535\n",
      "Batch 120, loss = 2489.8459, recon_loss = 2487.5034, kl_loss = 2.3425\n",
      "Batch 150, loss = 2415.9856, recon_loss = 2413.4976, kl_loss = 2.4879\n",
      "Batch 180, loss = 2301.5198, recon_loss = 2299.0483, kl_loss = 2.4715\n",
      "Batch 210, loss = 2013.4156, recon_loss = 2010.7202, kl_loss = 2.6955\n",
      "Batch 240, loss = 2082.1980, recon_loss = 2079.4731, kl_loss = 2.7249\n",
      "Average loss: 2236.6136\n",
      "Epoch: 4\n",
      "Batch 30, loss = 2203.3611, recon_loss = 2200.6721, kl_loss = 2.6891\n",
      "Batch 60, loss = 2384.8459, recon_loss = 2382.2803, kl_loss = 2.5656\n",
      "Batch 90, loss = 2145.8164, recon_loss = 2142.8115, kl_loss = 3.0048\n",
      "Batch 120, loss = 2197.0127, recon_loss = 2194.2620, kl_loss = 2.7508\n",
      "Batch 150, loss = 2262.8291, recon_loss = 2260.1233, kl_loss = 2.7058\n",
      "Batch 180, loss = 2655.1377, recon_loss = 2652.6731, kl_loss = 2.4646\n",
      "Batch 210, loss = 1951.6028, recon_loss = 1948.8000, kl_loss = 2.8027\n",
      "Batch 240, loss = 2040.3264, recon_loss = 2037.5175, kl_loss = 2.8090\n",
      "Average loss: 2204.3414\n",
      "Epoch: 5\n",
      "Batch 30, loss = 1726.8705, recon_loss = 1723.7439, kl_loss = 3.1265\n",
      "Batch 60, loss = 2022.7919, recon_loss = 2019.8523, kl_loss = 2.9396\n",
      "Batch 90, loss = 1899.1057, recon_loss = 1896.1747, kl_loss = 2.9310\n",
      "Batch 120, loss = 2458.1914, recon_loss = 2455.3496, kl_loss = 2.8418\n",
      "Batch 150, loss = 1835.8087, recon_loss = 1832.7358, kl_loss = 3.0729\n",
      "Batch 180, loss = 2034.8615, recon_loss = 2031.7917, kl_loss = 3.0698\n",
      "Batch 210, loss = 2068.4778, recon_loss = 2065.6389, kl_loss = 2.8389\n",
      "Batch 240, loss = 2091.4841, recon_loss = 2088.4548, kl_loss = 3.0294\n",
      "Average loss: 2146.4876\n",
      "Epoch: 6\n",
      "Batch 30, loss = 2256.7285, recon_loss = 2253.6865, kl_loss = 3.0421\n",
      "Batch 60, loss = 2213.1155, recon_loss = 2210.0669, kl_loss = 3.0486\n",
      "Batch 90, loss = 2031.6810, recon_loss = 2028.5461, kl_loss = 3.1348\n",
      "Batch 120, loss = 1670.4954, recon_loss = 1667.3878, kl_loss = 3.1075\n",
      "Batch 150, loss = 1553.0275, recon_loss = 1549.8872, kl_loss = 3.1403\n",
      "Batch 180, loss = 1144.5117, recon_loss = 1141.3259, kl_loss = 3.1858\n",
      "Batch 210, loss = 1176.7958, recon_loss = 1173.8175, kl_loss = 2.9783\n",
      "Batch 240, loss = 1347.8962, recon_loss = 1344.8462, kl_loss = 3.0501\n",
      "Average loss: 1746.6769\n",
      "Epoch: 7\n",
      "Batch 30, loss = 1299.0419, recon_loss = 1296.0238, kl_loss = 3.0181\n",
      "Batch 60, loss = 1302.7775, recon_loss = 1299.6309, kl_loss = 3.1466\n",
      "Batch 90, loss = 1306.9282, recon_loss = 1303.8545, kl_loss = 3.0737\n",
      "Batch 120, loss = 1360.9708, recon_loss = 1357.8657, kl_loss = 3.1052\n",
      "Batch 150, loss = 2630.9695, recon_loss = 2627.9731, kl_loss = 2.9962\n",
      "Batch 180, loss = 1264.2018, recon_loss = 1261.0001, kl_loss = 3.2016\n",
      "Batch 210, loss = 1325.1891, recon_loss = 1322.1327, kl_loss = 3.0563\n",
      "Batch 240, loss = 1431.2163, recon_loss = 1428.1028, kl_loss = 3.1135\n",
      "Average loss: 1440.9785\n",
      "Epoch: 8\n",
      "Batch 30, loss = 1708.0966, recon_loss = 1705.0520, kl_loss = 3.0446\n",
      "Batch 60, loss = 1445.6343, recon_loss = 1442.4883, kl_loss = 3.1460\n",
      "Batch 90, loss = 1409.5836, recon_loss = 1406.4301, kl_loss = 3.1536\n",
      "Batch 120, loss = 1385.0160, recon_loss = 1381.9282, kl_loss = 3.0878\n",
      "Batch 150, loss = 1177.0741, recon_loss = 1173.9750, kl_loss = 3.0991\n",
      "Batch 180, loss = 1186.5421, recon_loss = 1183.3765, kl_loss = 3.1657\n",
      "Batch 210, loss = 1065.7891, recon_loss = 1062.4451, kl_loss = 3.3440\n",
      "Batch 240, loss = 1106.7377, recon_loss = 1103.4940, kl_loss = 3.2436\n",
      "Average loss: 1379.9897\n",
      "Epoch: 9\n",
      "Batch 30, loss = 1375.4438, recon_loss = 1372.1902, kl_loss = 3.2537\n",
      "Batch 60, loss = 1291.2734, recon_loss = 1288.0889, kl_loss = 3.1846\n",
      "Batch 90, loss = 1020.7110, recon_loss = 1017.4121, kl_loss = 3.2989\n",
      "Batch 120, loss = 1040.3610, recon_loss = 1037.1183, kl_loss = 3.2427\n",
      "Batch 150, loss = 1304.3317, recon_loss = 1301.0625, kl_loss = 3.2691\n",
      "Batch 180, loss = 1031.4585, recon_loss = 1028.1375, kl_loss = 3.3210\n",
      "Batch 210, loss = 1566.3729, recon_loss = 1563.0901, kl_loss = 3.2828\n",
      "Batch 240, loss = 1445.1490, recon_loss = 1441.6410, kl_loss = 3.5081\n",
      "Average loss: 1299.1470\n",
      "Epoch: 10\n",
      "Batch 30, loss = 1203.3787, recon_loss = 1200.1162, kl_loss = 3.2625\n",
      "Batch 60, loss = 1134.2495, recon_loss = 1130.9232, kl_loss = 3.3263\n",
      "Batch 90, loss = 1244.6416, recon_loss = 1241.2915, kl_loss = 3.3501\n",
      "Batch 120, loss = 1118.1121, recon_loss = 1114.7761, kl_loss = 3.3360\n",
      "Batch 150, loss = 1172.1472, recon_loss = 1168.8560, kl_loss = 3.2912\n",
      "Batch 180, loss = 1130.0646, recon_loss = 1126.6321, kl_loss = 3.4325\n",
      "Batch 210, loss = 1498.0243, recon_loss = 1494.6533, kl_loss = 3.3710\n",
      "Batch 240, loss = 1310.8600, recon_loss = 1307.5679, kl_loss = 3.2921\n",
      "Average loss: 1328.2466\n",
      "Epoch: 11\n",
      "Batch 30, loss = 1249.9191, recon_loss = 1246.4877, kl_loss = 3.4314\n",
      "Batch 60, loss = 1875.4164, recon_loss = 1872.0209, kl_loss = 3.3955\n",
      "Batch 90, loss = 1171.2028, recon_loss = 1167.8369, kl_loss = 3.3658\n",
      "Batch 120, loss = 1491.1913, recon_loss = 1487.7944, kl_loss = 3.3969\n",
      "Batch 150, loss = 1037.7574, recon_loss = 1034.4843, kl_loss = 3.2732\n",
      "Batch 180, loss = 1330.7620, recon_loss = 1327.3401, kl_loss = 3.4219\n",
      "Batch 210, loss = 1075.4657, recon_loss = 1072.0752, kl_loss = 3.3905\n",
      "Batch 240, loss = 1436.1431, recon_loss = 1432.7747, kl_loss = 3.3684\n",
      "Average loss: 1258.8647\n",
      "Epoch: 12\n",
      "Batch 30, loss = 893.0057, recon_loss = 889.4404, kl_loss = 3.5653\n",
      "Batch 60, loss = 1099.2710, recon_loss = 1095.6013, kl_loss = 3.6696\n",
      "Batch 90, loss = 1172.3739, recon_loss = 1168.8031, kl_loss = 3.5707\n",
      "Batch 120, loss = 1131.7101, recon_loss = 1128.1907, kl_loss = 3.5194\n",
      "Batch 150, loss = 1290.8274, recon_loss = 1287.2061, kl_loss = 3.6213\n",
      "Batch 180, loss = 1507.9890, recon_loss = 1504.5303, kl_loss = 3.4587\n",
      "Batch 210, loss = 995.2100, recon_loss = 991.6055, kl_loss = 3.6045\n",
      "Batch 240, loss = 1253.2013, recon_loss = 1249.5653, kl_loss = 3.6360\n",
      "Average loss: 1199.0797\n",
      "Epoch: 13\n",
      "Batch 30, loss = 1247.0664, recon_loss = 1243.4323, kl_loss = 3.6342\n",
      "Batch 60, loss = 1242.2085, recon_loss = 1238.4338, kl_loss = 3.7746\n",
      "Batch 90, loss = 1350.5492, recon_loss = 1346.8812, kl_loss = 3.6680\n",
      "Batch 120, loss = 889.0541, recon_loss = 885.4379, kl_loss = 3.6162\n",
      "Batch 150, loss = 1010.7294, recon_loss = 1007.0756, kl_loss = 3.6538\n",
      "Batch 180, loss = 910.5616, recon_loss = 906.9572, kl_loss = 3.6045\n",
      "Batch 210, loss = 1292.7205, recon_loss = 1289.2296, kl_loss = 3.4909\n",
      "Batch 240, loss = 1297.9259, recon_loss = 1294.3550, kl_loss = 3.5709\n",
      "Average loss: 1147.2523\n",
      "Epoch: 14\n",
      "Batch 30, loss = 923.2756, recon_loss = 919.6361, kl_loss = 3.6395\n",
      "Batch 60, loss = 945.3372, recon_loss = 941.5277, kl_loss = 3.8095\n",
      "Batch 90, loss = 875.5972, recon_loss = 871.7795, kl_loss = 3.8177\n",
      "Batch 120, loss = 989.1798, recon_loss = 985.5853, kl_loss = 3.5945\n",
      "Batch 150, loss = 1078.2111, recon_loss = 1074.5048, kl_loss = 3.7063\n",
      "Batch 180, loss = 1334.9285, recon_loss = 1331.2391, kl_loss = 3.6893\n",
      "Batch 210, loss = 1062.5894, recon_loss = 1058.8228, kl_loss = 3.7666\n",
      "Batch 240, loss = 1200.8704, recon_loss = 1197.0869, kl_loss = 3.7835\n",
      "Average loss: 1037.9880\n",
      "Epoch: 15\n",
      "Batch 30, loss = 987.4370, recon_loss = 983.7036, kl_loss = 3.7334\n",
      "Batch 60, loss = 1054.3958, recon_loss = 1050.6901, kl_loss = 3.7056\n",
      "Batch 90, loss = 1194.0167, recon_loss = 1190.3687, kl_loss = 3.6481\n",
      "Batch 120, loss = 885.4996, recon_loss = 881.8484, kl_loss = 3.6511\n",
      "Batch 150, loss = 814.6581, recon_loss = 810.9587, kl_loss = 3.6994\n",
      "Batch 180, loss = 1620.7936, recon_loss = 1617.0400, kl_loss = 3.7535\n",
      "Batch 210, loss = 887.3512, recon_loss = 883.6323, kl_loss = 3.7189\n",
      "Batch 240, loss = 1073.9290, recon_loss = 1070.2747, kl_loss = 3.6544\n",
      "Average loss: 1061.9391\n",
      "Epoch: 16\n",
      "Batch 30, loss = 1388.6106, recon_loss = 1385.0210, kl_loss = 3.5897\n",
      "Batch 60, loss = 959.9124, recon_loss = 956.2693, kl_loss = 3.6430\n",
      "Batch 90, loss = 966.8347, recon_loss = 963.0620, kl_loss = 3.7727\n",
      "Batch 120, loss = 1070.2922, recon_loss = 1066.6406, kl_loss = 3.6517\n",
      "Batch 150, loss = 1472.1575, recon_loss = 1468.4727, kl_loss = 3.6849\n",
      "Batch 180, loss = 886.1714, recon_loss = 882.4337, kl_loss = 3.7378\n",
      "Batch 210, loss = 916.9659, recon_loss = 913.4021, kl_loss = 3.5638\n",
      "Batch 240, loss = 881.2004, recon_loss = 877.6694, kl_loss = 3.5310\n",
      "Average loss: 982.3104\n",
      "Epoch: 17\n",
      "Batch 30, loss = 1304.1803, recon_loss = 1300.5281, kl_loss = 3.6522\n",
      "Batch 60, loss = 799.9854, recon_loss = 796.2983, kl_loss = 3.6871\n",
      "Batch 90, loss = 1010.1812, recon_loss = 1006.5275, kl_loss = 3.6537\n",
      "Batch 120, loss = 1082.6582, recon_loss = 1078.9371, kl_loss = 3.7211\n",
      "Batch 150, loss = 1316.4537, recon_loss = 1312.6829, kl_loss = 3.7708\n",
      "Batch 180, loss = 1202.5243, recon_loss = 1198.7727, kl_loss = 3.7516\n",
      "Batch 210, loss = 1103.2428, recon_loss = 1099.5879, kl_loss = 3.6549\n",
      "Batch 240, loss = 866.7821, recon_loss = 863.0886, kl_loss = 3.6935\n",
      "Average loss: 1058.2803\n",
      "Epoch: 18\n",
      "Batch 30, loss = 1035.7148, recon_loss = 1031.8995, kl_loss = 3.8153\n",
      "Batch 60, loss = 1219.2957, recon_loss = 1215.4922, kl_loss = 3.8034\n",
      "Batch 90, loss = 947.9631, recon_loss = 944.1855, kl_loss = 3.7775\n",
      "Batch 120, loss = 1143.8457, recon_loss = 1140.1924, kl_loss = 3.6533\n",
      "Batch 150, loss = 1153.4138, recon_loss = 1149.5775, kl_loss = 3.8363\n",
      "Batch 180, loss = 1309.1565, recon_loss = 1305.5061, kl_loss = 3.6504\n",
      "Batch 210, loss = 911.2303, recon_loss = 907.4319, kl_loss = 3.7984\n",
      "Batch 240, loss = 1047.4209, recon_loss = 1043.6595, kl_loss = 3.7614\n",
      "Average loss: 1046.6209\n",
      "Epoch: 19\n",
      "Batch 30, loss = 1081.6770, recon_loss = 1078.0947, kl_loss = 3.5823\n",
      "Batch 60, loss = 1149.5723, recon_loss = 1145.7744, kl_loss = 3.7979\n",
      "Batch 90, loss = 918.9117, recon_loss = 915.0851, kl_loss = 3.8265\n",
      "Batch 120, loss = 1299.3263, recon_loss = 1295.4675, kl_loss = 3.8588\n",
      "Batch 150, loss = 1057.8882, recon_loss = 1054.0820, kl_loss = 3.8061\n",
      "Batch 180, loss = 776.0937, recon_loss = 772.2781, kl_loss = 3.8156\n",
      "Batch 210, loss = 1147.0808, recon_loss = 1143.3718, kl_loss = 3.7089\n",
      "Batch 240, loss = 748.0981, recon_loss = 744.3218, kl_loss = 3.7763\n",
      "Average loss: 1057.8479\n",
      "Epoch: 20\n",
      "Batch 30, loss = 1361.3074, recon_loss = 1357.7086, kl_loss = 3.5988\n",
      "Batch 60, loss = 769.0826, recon_loss = 765.3250, kl_loss = 3.7577\n",
      "Batch 90, loss = 1219.3438, recon_loss = 1215.8694, kl_loss = 3.4744\n",
      "Batch 120, loss = 969.8052, recon_loss = 966.0526, kl_loss = 3.7525\n",
      "Batch 150, loss = 838.2565, recon_loss = 834.5297, kl_loss = 3.7268\n",
      "Batch 180, loss = 1047.0079, recon_loss = 1043.3151, kl_loss = 3.6928\n",
      "Batch 210, loss = 1055.7050, recon_loss = 1052.0061, kl_loss = 3.6989\n",
      "Batch 240, loss = 1372.9680, recon_loss = 1369.2711, kl_loss = 3.6969\n",
      "Average loss: 1056.6183\n",
      "Epoch: 21\n",
      "Batch 30, loss = 1252.7939, recon_loss = 1249.0759, kl_loss = 3.7180\n",
      "Batch 60, loss = 1264.2985, recon_loss = 1260.6259, kl_loss = 3.6726\n",
      "Batch 90, loss = 869.3776, recon_loss = 865.5155, kl_loss = 3.8621\n",
      "Batch 120, loss = 762.2476, recon_loss = 758.5911, kl_loss = 3.6565\n",
      "Batch 150, loss = 984.7381, recon_loss = 981.0175, kl_loss = 3.7206\n",
      "Batch 180, loss = 1026.2609, recon_loss = 1022.5112, kl_loss = 3.7496\n",
      "Batch 210, loss = 1091.2913, recon_loss = 1087.5088, kl_loss = 3.7825\n",
      "Batch 240, loss = 678.2072, recon_loss = 674.5233, kl_loss = 3.6840\n",
      "Average loss: 1009.1766\n",
      "Epoch: 22\n",
      "Batch 30, loss = 1232.8206, recon_loss = 1229.0658, kl_loss = 3.7548\n",
      "Batch 60, loss = 810.1880, recon_loss = 806.5286, kl_loss = 3.6595\n",
      "Batch 90, loss = 1220.2963, recon_loss = 1216.5361, kl_loss = 3.7601\n",
      "Batch 120, loss = 1291.9614, recon_loss = 1288.1943, kl_loss = 3.7671\n",
      "Batch 150, loss = 925.1157, recon_loss = 921.4093, kl_loss = 3.7064\n",
      "Batch 180, loss = 736.7617, recon_loss = 733.0477, kl_loss = 3.7140\n",
      "Batch 210, loss = 1152.3010, recon_loss = 1148.6216, kl_loss = 3.6794\n",
      "Batch 240, loss = 919.4902, recon_loss = 915.7448, kl_loss = 3.7453\n",
      "Average loss: 943.9353\n",
      "Epoch: 23\n",
      "Batch 30, loss = 894.7321, recon_loss = 890.8776, kl_loss = 3.8545\n",
      "Batch 60, loss = 977.7132, recon_loss = 973.8566, kl_loss = 3.8566\n",
      "Batch 90, loss = 997.8991, recon_loss = 994.1993, kl_loss = 3.6998\n",
      "Batch 120, loss = 936.4395, recon_loss = 932.7996, kl_loss = 3.6400\n",
      "Batch 150, loss = 986.4573, recon_loss = 982.7175, kl_loss = 3.7399\n",
      "Batch 180, loss = 997.4277, recon_loss = 993.6538, kl_loss = 3.7739\n",
      "Batch 210, loss = 902.6028, recon_loss = 898.9011, kl_loss = 3.7017\n",
      "Batch 240, loss = 979.2335, recon_loss = 975.4669, kl_loss = 3.7667\n",
      "Average loss: 965.1916\n",
      "Epoch: 24\n",
      "Batch 30, loss = 930.4681, recon_loss = 926.6314, kl_loss = 3.8368\n",
      "Batch 60, loss = 688.3278, recon_loss = 684.5302, kl_loss = 3.7977\n",
      "Batch 90, loss = 1277.1475, recon_loss = 1273.3701, kl_loss = 3.7773\n",
      "Batch 120, loss = 895.7432, recon_loss = 891.9332, kl_loss = 3.8101\n",
      "Batch 150, loss = 847.9273, recon_loss = 844.1473, kl_loss = 3.7800\n",
      "Batch 180, loss = 793.3174, recon_loss = 789.5690, kl_loss = 3.7485\n",
      "Batch 210, loss = 769.9747, recon_loss = 766.2211, kl_loss = 3.7536\n",
      "Batch 240, loss = 1066.2545, recon_loss = 1062.6276, kl_loss = 3.6270\n",
      "Average loss: 939.9309\n",
      "Epoch: 25\n",
      "Batch 30, loss = 630.7303, recon_loss = 627.0382, kl_loss = 3.6921\n",
      "Batch 60, loss = 857.3025, recon_loss = 853.5669, kl_loss = 3.7356\n",
      "Batch 90, loss = 835.7976, recon_loss = 832.0705, kl_loss = 3.7271\n",
      "Batch 120, loss = 700.5136, recon_loss = 696.9268, kl_loss = 3.5868\n",
      "Batch 150, loss = 1174.3091, recon_loss = 1170.6122, kl_loss = 3.6969\n",
      "Batch 180, loss = 907.5568, recon_loss = 903.9750, kl_loss = 3.5818\n",
      "Batch 210, loss = 1231.4993, recon_loss = 1228.0876, kl_loss = 3.4117\n",
      "Batch 240, loss = 969.5223, recon_loss = 965.9474, kl_loss = 3.5750\n",
      "Average loss: 866.1241\n",
      "Epoch: 26\n",
      "Batch 30, loss = 844.8438, recon_loss = 841.0114, kl_loss = 3.8324\n",
      "Batch 60, loss = 795.2295, recon_loss = 791.4261, kl_loss = 3.8033\n",
      "Batch 90, loss = 979.0594, recon_loss = 975.2997, kl_loss = 3.7596\n",
      "Batch 120, loss = 1637.3855, recon_loss = 1633.6622, kl_loss = 3.7233\n",
      "Batch 150, loss = 875.7741, recon_loss = 871.9796, kl_loss = 3.7945\n",
      "Batch 180, loss = 920.4009, recon_loss = 916.5448, kl_loss = 3.8561\n",
      "Batch 210, loss = 1005.7950, recon_loss = 1002.2325, kl_loss = 3.5625\n",
      "Batch 240, loss = 739.6889, recon_loss = 735.8657, kl_loss = 3.8232\n",
      "Average loss: 955.0375\n",
      "Epoch: 27\n",
      "Batch 30, loss = 1167.4028, recon_loss = 1163.7686, kl_loss = 3.6342\n",
      "Batch 60, loss = 1038.0452, recon_loss = 1034.4056, kl_loss = 3.6395\n",
      "Batch 90, loss = 864.4097, recon_loss = 860.4741, kl_loss = 3.9356\n",
      "Batch 120, loss = 938.8484, recon_loss = 935.1158, kl_loss = 3.7326\n",
      "Batch 150, loss = 918.4907, recon_loss = 914.5286, kl_loss = 3.9621\n",
      "Batch 180, loss = 759.7595, recon_loss = 755.9035, kl_loss = 3.8560\n",
      "Batch 210, loss = 877.9401, recon_loss = 874.0516, kl_loss = 3.8885\n",
      "Batch 240, loss = 984.2440, recon_loss = 980.4667, kl_loss = 3.7773\n",
      "Average loss: 950.5656\n",
      "Epoch: 28\n",
      "Batch 30, loss = 896.5740, recon_loss = 892.4906, kl_loss = 4.0834\n",
      "Batch 60, loss = 796.1475, recon_loss = 792.2501, kl_loss = 3.8975\n",
      "Batch 90, loss = 1133.7543, recon_loss = 1130.0662, kl_loss = 3.6881\n",
      "Batch 120, loss = 767.1359, recon_loss = 763.3409, kl_loss = 3.7950\n",
      "Batch 150, loss = 995.4089, recon_loss = 991.6284, kl_loss = 3.7805\n",
      "Batch 180, loss = 793.5402, recon_loss = 789.8282, kl_loss = 3.7119\n",
      "Batch 210, loss = 1079.0432, recon_loss = 1075.3225, kl_loss = 3.7207\n",
      "Batch 240, loss = 886.8484, recon_loss = 883.1633, kl_loss = 3.6851\n",
      "Average loss: 906.9093\n",
      "Epoch: 29\n",
      "Batch 30, loss = 745.2747, recon_loss = 741.5743, kl_loss = 3.7004\n",
      "Batch 60, loss = 827.5219, recon_loss = 823.7725, kl_loss = 3.7495\n",
      "Batch 90, loss = 602.9944, recon_loss = 599.1013, kl_loss = 3.8931\n",
      "Batch 120, loss = 1003.8024, recon_loss = 999.9296, kl_loss = 3.8728\n",
      "Batch 150, loss = 853.7581, recon_loss = 849.9568, kl_loss = 3.8012\n",
      "Batch 180, loss = 949.7200, recon_loss = 945.8685, kl_loss = 3.8514\n",
      "Batch 210, loss = 772.1358, recon_loss = 768.4445, kl_loss = 3.6913\n",
      "Batch 240, loss = 761.6218, recon_loss = 757.8173, kl_loss = 3.8045\n",
      "Average loss: 865.2305\n",
      "Epoch: 30\n",
      "Batch 30, loss = 829.1658, recon_loss = 825.5095, kl_loss = 3.6562\n",
      "Batch 60, loss = 984.8632, recon_loss = 981.2238, kl_loss = 3.6394\n",
      "Batch 90, loss = 858.2982, recon_loss = 854.5929, kl_loss = 3.7053\n",
      "Batch 120, loss = 717.6584, recon_loss = 713.8591, kl_loss = 3.7993\n",
      "Batch 150, loss = 1143.2224, recon_loss = 1139.5273, kl_loss = 3.6950\n",
      "Batch 180, loss = 688.6339, recon_loss = 684.8542, kl_loss = 3.7796\n",
      "Batch 210, loss = 946.5200, recon_loss = 942.8062, kl_loss = 3.7139\n",
      "Batch 240, loss = 736.0356, recon_loss = 732.2864, kl_loss = 3.7492\n",
      "Average loss: 889.5467\n",
      "Epoch: 31\n",
      "Batch 30, loss = 960.9655, recon_loss = 957.2752, kl_loss = 3.6903\n",
      "Batch 60, loss = 851.4333, recon_loss = 847.7822, kl_loss = 3.6512\n",
      "Batch 90, loss = 964.3301, recon_loss = 960.6068, kl_loss = 3.7233\n",
      "Batch 120, loss = 791.3075, recon_loss = 787.4978, kl_loss = 3.8097\n",
      "Batch 150, loss = 1057.3611, recon_loss = 1053.6438, kl_loss = 3.7172\n",
      "Batch 180, loss = 996.3462, recon_loss = 992.6064, kl_loss = 3.7398\n",
      "Batch 210, loss = 694.8354, recon_loss = 691.1537, kl_loss = 3.6818\n",
      "Batch 240, loss = 817.9558, recon_loss = 814.2745, kl_loss = 3.6813\n",
      "Average loss: 845.3013\n",
      "Epoch: 32\n",
      "Batch 30, loss = 779.0637, recon_loss = 775.3431, kl_loss = 3.7206\n",
      "Batch 60, loss = 737.0828, recon_loss = 733.4154, kl_loss = 3.6674\n",
      "Batch 90, loss = 830.3411, recon_loss = 826.6745, kl_loss = 3.6666\n",
      "Batch 120, loss = 840.4087, recon_loss = 836.8189, kl_loss = 3.5898\n",
      "Batch 150, loss = 938.2532, recon_loss = 934.5491, kl_loss = 3.7041\n",
      "Batch 180, loss = 883.2098, recon_loss = 879.4911, kl_loss = 3.7188\n",
      "Batch 210, loss = 943.7504, recon_loss = 940.0253, kl_loss = 3.7251\n",
      "Batch 240, loss = 939.0673, recon_loss = 935.3485, kl_loss = 3.7188\n",
      "Average loss: 865.4378\n",
      "Epoch: 33\n",
      "Batch 30, loss = 661.6433, recon_loss = 657.9299, kl_loss = 3.7134\n",
      "Batch 60, loss = 1048.6664, recon_loss = 1044.9595, kl_loss = 3.7069\n",
      "Batch 90, loss = 1068.8204, recon_loss = 1064.9771, kl_loss = 3.8434\n",
      "Batch 120, loss = 701.3740, recon_loss = 697.8401, kl_loss = 3.5339\n",
      "Batch 150, loss = 928.2938, recon_loss = 924.5795, kl_loss = 3.7143\n",
      "Batch 180, loss = 987.8380, recon_loss = 984.2443, kl_loss = 3.5937\n",
      "Batch 210, loss = 720.9667, recon_loss = 717.2169, kl_loss = 3.7498\n",
      "Batch 240, loss = 991.0645, recon_loss = 987.4120, kl_loss = 3.6525\n",
      "Average loss: 830.5894\n",
      "Epoch: 34\n",
      "Batch 30, loss = 1065.5724, recon_loss = 1061.8218, kl_loss = 3.7506\n",
      "Batch 60, loss = 683.3615, recon_loss = 679.6292, kl_loss = 3.7323\n",
      "Batch 90, loss = 751.6429, recon_loss = 747.8509, kl_loss = 3.7920\n",
      "Batch 120, loss = 834.8017, recon_loss = 831.0769, kl_loss = 3.7248\n",
      "Batch 150, loss = 809.5688, recon_loss = 805.9174, kl_loss = 3.6514\n",
      "Batch 180, loss = 806.6295, recon_loss = 802.9312, kl_loss = 3.6983\n",
      "Batch 210, loss = 736.1176, recon_loss = 732.4799, kl_loss = 3.6376\n",
      "Batch 240, loss = 955.2790, recon_loss = 951.5375, kl_loss = 3.7414\n",
      "Average loss: 834.4002\n",
      "Epoch: 35\n",
      "Batch 30, loss = 870.4552, recon_loss = 866.7361, kl_loss = 3.7190\n",
      "Batch 60, loss = 762.2170, recon_loss = 758.7360, kl_loss = 3.4811\n",
      "Batch 90, loss = 1137.2869, recon_loss = 1133.7815, kl_loss = 3.5053\n",
      "Batch 120, loss = 798.4331, recon_loss = 794.6796, kl_loss = 3.7536\n",
      "Batch 150, loss = 724.7949, recon_loss = 721.0553, kl_loss = 3.7396\n",
      "Batch 180, loss = 821.2053, recon_loss = 817.5056, kl_loss = 3.6996\n",
      "Batch 210, loss = 924.2567, recon_loss = 920.6031, kl_loss = 3.6536\n",
      "Batch 240, loss = 705.8207, recon_loss = 702.1858, kl_loss = 3.6349\n",
      "Average loss: 850.2341\n",
      "Epoch: 36\n",
      "Batch 30, loss = 844.6494, recon_loss = 840.7941, kl_loss = 3.8554\n",
      "Batch 60, loss = 617.9485, recon_loss = 614.1102, kl_loss = 3.8383\n",
      "Batch 90, loss = 962.4311, recon_loss = 958.7041, kl_loss = 3.7270\n",
      "Batch 120, loss = 699.7167, recon_loss = 696.0035, kl_loss = 3.7132\n",
      "Batch 150, loss = 847.0293, recon_loss = 843.2733, kl_loss = 3.7560\n",
      "Batch 180, loss = 903.1599, recon_loss = 899.4222, kl_loss = 3.7376\n",
      "Batch 210, loss = 628.3993, recon_loss = 624.5521, kl_loss = 3.8472\n",
      "Batch 240, loss = 717.5648, recon_loss = 713.8197, kl_loss = 3.7450\n",
      "Average loss: 810.6712\n",
      "Epoch: 37\n",
      "Batch 30, loss = 848.6303, recon_loss = 844.8320, kl_loss = 3.7984\n",
      "Batch 60, loss = 741.3596, recon_loss = 737.6276, kl_loss = 3.7320\n",
      "Batch 90, loss = 1037.1598, recon_loss = 1033.3796, kl_loss = 3.7801\n",
      "Batch 120, loss = 688.0735, recon_loss = 684.3077, kl_loss = 3.7658\n",
      "Batch 150, loss = 631.7384, recon_loss = 628.0037, kl_loss = 3.7347\n",
      "Batch 180, loss = 905.2817, recon_loss = 901.6351, kl_loss = 3.6465\n",
      "Batch 210, loss = 889.7069, recon_loss = 886.0815, kl_loss = 3.6254\n",
      "Batch 240, loss = 1023.4103, recon_loss = 1019.6766, kl_loss = 3.7338\n",
      "Average loss: 809.4002\n",
      "Epoch: 38\n",
      "Batch 30, loss = 692.3415, recon_loss = 688.7157, kl_loss = 3.6258\n",
      "Batch 60, loss = 888.8155, recon_loss = 885.1115, kl_loss = 3.7040\n",
      "Batch 90, loss = 740.7806, recon_loss = 737.0807, kl_loss = 3.6998\n",
      "Batch 120, loss = 933.6084, recon_loss = 929.9908, kl_loss = 3.6175\n",
      "Batch 150, loss = 727.2133, recon_loss = 723.5712, kl_loss = 3.6422\n",
      "Batch 180, loss = 892.7228, recon_loss = 888.9951, kl_loss = 3.7278\n",
      "Batch 210, loss = 812.1294, recon_loss = 808.4088, kl_loss = 3.7207\n",
      "Batch 240, loss = 825.7345, recon_loss = 822.1097, kl_loss = 3.6248\n",
      "Average loss: 778.6329\n",
      "Epoch: 39\n",
      "Batch 30, loss = 676.5673, recon_loss = 672.8043, kl_loss = 3.7630\n",
      "Batch 60, loss = 748.7359, recon_loss = 745.0753, kl_loss = 3.6606\n",
      "Batch 90, loss = 797.6044, recon_loss = 794.0354, kl_loss = 3.5690\n",
      "Batch 120, loss = 718.2991, recon_loss = 714.6228, kl_loss = 3.6763\n",
      "Batch 150, loss = 712.5612, recon_loss = 708.9778, kl_loss = 3.5834\n",
      "Batch 180, loss = 875.5198, recon_loss = 871.7784, kl_loss = 3.7414\n",
      "Batch 210, loss = 825.0637, recon_loss = 821.3138, kl_loss = 3.7499\n",
      "Batch 240, loss = 807.2214, recon_loss = 803.4883, kl_loss = 3.7332\n",
      "Average loss: 776.7875\n"
     ]
    }
   ],
   "source": [
    "vrae.fit(train_dataset)\n",
    "\n",
    "#If the model has to be saved, with the learnt parameters use:\n",
    "# vrae.fit(dataset, save = True)"
   ]
  },
  {
   "cell_type": "code",
   "execution_count": 12,
   "metadata": {},
   "outputs": [
    {
     "name": "stdout",
     "output_type": "stream",
     "text": [
      "(40,)\n",
      "(140, 928, 1)\n"
     ]
    },
    {
     "ename": "NameError",
     "evalue": "name 'mean_absolute_error' is not defined",
     "output_type": "error",
     "traceback": [
      "\u001b[0;31m---------------------------------------------------------------------------\u001b[0m",
      "\u001b[0;31mNameError\u001b[0m                                 Traceback (most recent call last)",
      "\u001b[0;32m<ipython-input-12-6f10c172f7cc>\u001b[0m in \u001b[0;36m<module>\u001b[0;34m\u001b[0m\n\u001b[1;32m     23\u001b[0m \u001b[0;34m\u001b[0m\u001b[0m\n\u001b[1;32m     24\u001b[0m \u001b[0;31m#Compute mean absolute error\u001b[0m\u001b[0;34m\u001b[0m\u001b[0;34m\u001b[0m\u001b[0;34m\u001b[0m\u001b[0m\n\u001b[0;32m---> 25\u001b[0;31m \u001b[0mmse_test\u001b[0m \u001b[0;34m=\u001b[0m \u001b[0mmean_absolute_error\u001b[0m\u001b[0;34m(\u001b[0m\u001b[0mtest_dataset\u001b[0m\u001b[0;34m,\u001b[0m \u001b[0mx_hat\u001b[0m\u001b[0;34m)\u001b[0m\u001b[0;34m\u001b[0m\u001b[0;34m\u001b[0m\u001b[0m\n\u001b[0m\u001b[1;32m     26\u001b[0m \u001b[0mprint\u001b[0m\u001b[0;34m(\u001b[0m\u001b[0;34m'MSE over the test set: '\u001b[0m \u001b[0;34m+\u001b[0m \u001b[0mstr\u001b[0m\u001b[0;34m(\u001b[0m\u001b[0mmse_test\u001b[0m\u001b[0;34m)\u001b[0m\u001b[0;34m)\u001b[0m\u001b[0;34m\u001b[0m\u001b[0;34m\u001b[0m\u001b[0m\n",
      "\u001b[0;31mNameError\u001b[0m: name 'mean_absolute_error' is not defined"
     ]
    },
    {
     "data": {
      "image/png": "[encoded data removed]",
      "text/plain": [
       "<Figure size 432x288 with 1 Axes>"
      ]
     },
     "metadata": {
      "needs_background": "light"
     },
     "output_type": "display_data"
    }
   ],
   "source": [
    "## Plot  the loss function\n",
    "%matplotlib inline\n",
    "# Plotting loss\n",
    "# Get full curve from losss\n",
    "\n",
    "import matplotlib.pyplot as plt\n",
    "\n",
    "loss_curve = vrae.training_loss\n",
    "print(np.array(loss_curve).shape)\n",
    "#Plot it\n",
    "plt.plot(range(len(loss_curve)), loss_curve, '-b', label='loss')\n",
    "\n",
    "plt.xlabel(\"iteration\")\n",
    "plt.ylabel(\"total loss\")\n",
    "\n",
    "plt.legend(loc='upper left')\n",
    "plt.title(\"Loss function\")\n",
    "\n",
    "# Transform the test dataset\n",
    "x_hat = vrae.reconstruct(test_dataset)\n",
    "\n",
    "print(x_hat.shape)\n",
    "\n",
    "#Compute mean absolute error\n",
    "mse_test = mean_absolute_error(test_dataset, x_hat)\n",
    "print('MSE over the test set: ' + str(mse_test))"
   ]
  },
  {
   "cell_type": "markdown",
   "metadata": {},
   "source": [
    "### Transform the input timeseries to encoded latent vectors"
   ]
  },
  {
   "cell_type": "code",
   "execution_count": 13,
   "metadata": {},
   "outputs": [],
   "source": [
    "z_run = vrae.transform(test_dataset)\n",
    "\n",
    "#If the latent vectors have to be saved, pass the parameter `save`\n",
    "# z_run = vrae.transform(dataset, save = True)"
   ]
  },
  {
   "cell_type": "markdown",
   "metadata": {},
   "source": [
    "### Save the model to be fetched later"
   ]
  },
  {
   "cell_type": "code",
   "execution_count": 14,
   "metadata": {},
   "outputs": [],
   "source": [
    "vrae.save('vrae.pth')\n",
    "\n",
    "# To load a presaved model, execute:\n",
    "# vrae.load('vrae.pth')"
   ]
  },
  {
   "cell_type": "markdown",
   "metadata": {},
   "source": [
    "### Visualize using PCA and tSNE"
   ]
  },
  {
   "cell_type": "code",
   "execution_count": 15,
   "metadata": {},
   "outputs": [
    {
     "data": {
      "image/png": "[encoded data removed]",
      "text/plain": [
       "<Figure size 432x288 with 1 Axes>"
      ]
     },
     "metadata": {
      "needs_background": "light"
     },
     "output_type": "display_data"
    },
    {
     "data": {
      "image/png": "[encoded data removed]",
      "text/plain": [
       "<Figure size 432x288 with 1 Axes>"
      ]
     },
     "metadata": {
      "needs_background": "light"
     },
     "output_type": "display_data"
    }
   ],
   "source": [
    "plot_clustering(z_run, y_val, engine='matplotlib', download = False)\n",
    "\n",
    "# If plotly to be used as rendering engine, uncomment below line\n",
    "#plot_clustering(z_run, y_val, engine='plotly', download = False)"
   ]
  },
  {
   "cell_type": "code",
   "execution_count": null,
   "metadata": {},
   "outputs": [],
   "source": []
  }
 ],
 "metadata": {
  "kernelspec": {
   "display_name": "Python 3",
   "language": "python",
   "name": "python3"
  },
  "language_info": {
   "codemirror_mode": {
    "name": "ipython",
    "version": 3
   },
   "file_extension": ".py",
   "mimetype": "text/x-python",
   "name": "python",
   "nbconvert_exporter": "python",
   "pygments_lexer": "ipython3",
   "version": "3.6.10"
  }
 },
 "nbformat": 4,
 "nbformat_minor": 4
}
